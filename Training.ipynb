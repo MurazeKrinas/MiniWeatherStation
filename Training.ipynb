{
 "cells": [
  {
   "cell_type": "code",
   "execution_count": 1,
   "metadata": {},
   "outputs": [],
   "source": [
    "import warnings\n",
    "from pandas.errors import SettingWithCopyWarning\n",
    "\n",
    "warnings.simplefilter(action=\"ignore\", category=SettingWithCopyWarning)"
   ]
  },
  {
   "cell_type": "code",
   "execution_count": 2,
   "metadata": {},
   "outputs": [
    {
     "name": "stdout",
     "output_type": "stream",
     "text": [
      "<class 'pandas.core.frame.DataFrame'>\n",
      "RangeIndex: 181960 entries, 0 to 181959\n",
      "Data columns (total 10 columns):\n",
      " #   Column    Non-Null Count   Dtype  \n",
      "---  ------    --------------   -----  \n",
      " 0   province  181960 non-null  object \n",
      " 1   max       181960 non-null  int64  \n",
      " 2   min       181960 non-null  int64  \n",
      " 3   wind      181960 non-null  int64  \n",
      " 4   wind_d    181960 non-null  object \n",
      " 5   rain      181960 non-null  float64\n",
      " 6   humidi    181960 non-null  int64  \n",
      " 7   cloud     181960 non-null  int64  \n",
      " 8   pressure  181960 non-null  int64  \n",
      " 9   date      181960 non-null  object \n",
      "dtypes: float64(1), int64(6), object(3)\n",
      "memory usage: 13.9+ MB\n"
     ]
    }
   ],
   "source": [
    "import pandas as pd\n",
    "\n",
    "DataPath = './Dataset/VietNamWeather.csv'\n",
    "Dataframe = pd.read_csv(DataPath).reset_index(drop=True)\n",
    "\n",
    "Dataframe.info(verbose=True, show_counts=True)"
   ]
  },
  {
   "cell_type": "code",
   "execution_count": 3,
   "metadata": {},
   "outputs": [
    {
     "name": "stdout",
     "output_type": "stream",
     "text": [
      "<class 'pandas.core.frame.DataFrame'>\n",
      "RangeIndex: 181960 entries, 0 to 181959\n",
      "Data columns (total 6 columns):\n",
      " #   Column    Non-Null Count   Dtype  \n",
      "---  ------    --------------   -----  \n",
      " 0   temp      181960 non-null  float64\n",
      " 1   wind      181960 non-null  float64\n",
      " 2   humidi    181960 non-null  int64  \n",
      " 3   cloud     181960 non-null  int64  \n",
      " 4   pressure  181960 non-null  int64  \n",
      " 5   israin    181960 non-null  int64  \n",
      "dtypes: float64(2), int64(4)\n",
      "memory usage: 8.3 MB\n"
     ]
    }
   ],
   "source": [
    "Dataframe['temp'] = (Dataframe['max'] + Dataframe['min']) / 2\n",
    "NewDf = Dataframe[['temp', 'wind', 'humidi', 'cloud', 'pressure']]\n",
    "\n",
    "RainThreshold = 1.8\n",
    "NewDf['israin'] = (Dataframe['rain'] > RainThreshold).astype(int)\n",
    "\n",
    "NewDf['wind'] *= 0.277777778 # km/h to m/s\n",
    "\n",
    "NewDf.info(verbose=True, show_counts=True)"
   ]
  },
  {
   "cell_type": "code",
   "execution_count": 4,
   "metadata": {},
   "outputs": [
    {
     "data": {
      "text/html": [
       "<div>\n",
       "<style scoped>\n",
       "    .dataframe tbody tr th:only-of-type {\n",
       "        vertical-align: middle;\n",
       "    }\n",
       "\n",
       "    .dataframe tbody tr th {\n",
       "        vertical-align: top;\n",
       "    }\n",
       "\n",
       "    .dataframe thead th {\n",
       "        text-align: right;\n",
       "    }\n",
       "</style>\n",
       "<table border=\"1\" class=\"dataframe\">\n",
       "  <thead>\n",
       "    <tr style=\"text-align: right;\">\n",
       "      <th></th>\n",
       "      <th>temp</th>\n",
       "      <th>wind</th>\n",
       "      <th>humidi</th>\n",
       "      <th>cloud</th>\n",
       "      <th>pressure</th>\n",
       "      <th>israin</th>\n",
       "    </tr>\n",
       "  </thead>\n",
       "  <tbody>\n",
       "    <tr>\n",
       "      <th>0</th>\n",
       "      <td>24.5</td>\n",
       "      <td>4.722222</td>\n",
       "      <td>90</td>\n",
       "      <td>71</td>\n",
       "      <td>1010</td>\n",
       "      <td>1</td>\n",
       "    </tr>\n",
       "    <tr>\n",
       "      <th>1</th>\n",
       "      <td>28.0</td>\n",
       "      <td>5.555556</td>\n",
       "      <td>64</td>\n",
       "      <td>24</td>\n",
       "      <td>1010</td>\n",
       "      <td>0</td>\n",
       "    </tr>\n",
       "    <tr>\n",
       "      <th>2</th>\n",
       "      <td>26.5</td>\n",
       "      <td>3.888889</td>\n",
       "      <td>75</td>\n",
       "      <td>45</td>\n",
       "      <td>1008</td>\n",
       "      <td>0</td>\n",
       "    </tr>\n",
       "    <tr>\n",
       "      <th>3</th>\n",
       "      <td>27.0</td>\n",
       "      <td>8.333333</td>\n",
       "      <td>79</td>\n",
       "      <td>52</td>\n",
       "      <td>1012</td>\n",
       "      <td>0</td>\n",
       "    </tr>\n",
       "    <tr>\n",
       "      <th>4</th>\n",
       "      <td>28.0</td>\n",
       "      <td>5.555556</td>\n",
       "      <td>70</td>\n",
       "      <td>24</td>\n",
       "      <td>1010</td>\n",
       "      <td>0</td>\n",
       "    </tr>\n",
       "    <tr>\n",
       "      <th>5</th>\n",
       "      <td>25.5</td>\n",
       "      <td>3.888889</td>\n",
       "      <td>75</td>\n",
       "      <td>55</td>\n",
       "      <td>1012</td>\n",
       "      <td>0</td>\n",
       "    </tr>\n",
       "    <tr>\n",
       "      <th>6</th>\n",
       "      <td>26.0</td>\n",
       "      <td>2.777778</td>\n",
       "      <td>75</td>\n",
       "      <td>42</td>\n",
       "      <td>1012</td>\n",
       "      <td>0</td>\n",
       "    </tr>\n",
       "    <tr>\n",
       "      <th>7</th>\n",
       "      <td>28.0</td>\n",
       "      <td>6.111111</td>\n",
       "      <td>63</td>\n",
       "      <td>9</td>\n",
       "      <td>1015</td>\n",
       "      <td>0</td>\n",
       "    </tr>\n",
       "    <tr>\n",
       "      <th>8</th>\n",
       "      <td>27.0</td>\n",
       "      <td>5.555556</td>\n",
       "      <td>76</td>\n",
       "      <td>35</td>\n",
       "      <td>1011</td>\n",
       "      <td>0</td>\n",
       "    </tr>\n",
       "    <tr>\n",
       "      <th>9</th>\n",
       "      <td>26.0</td>\n",
       "      <td>4.444444</td>\n",
       "      <td>70</td>\n",
       "      <td>33</td>\n",
       "      <td>1010</td>\n",
       "      <td>0</td>\n",
       "    </tr>\n",
       "  </tbody>\n",
       "</table>\n",
       "</div>"
      ],
      "text/plain": [
       "   temp      wind  humidi  cloud  pressure  israin\n",
       "0  24.5  4.722222      90     71      1010       1\n",
       "1  28.0  5.555556      64     24      1010       0\n",
       "2  26.5  3.888889      75     45      1008       0\n",
       "3  27.0  8.333333      79     52      1012       0\n",
       "4  28.0  5.555556      70     24      1010       0\n",
       "5  25.5  3.888889      75     55      1012       0\n",
       "6  26.0  2.777778      75     42      1012       0\n",
       "7  28.0  6.111111      63      9      1015       0\n",
       "8  27.0  5.555556      76     35      1011       0\n",
       "9  26.0  4.444444      70     33      1010       0"
      ]
     },
     "execution_count": 4,
     "metadata": {},
     "output_type": "execute_result"
    }
   ],
   "source": [
    "NewDf.head(10)"
   ]
  },
  {
   "cell_type": "code",
   "execution_count": 5,
   "metadata": {},
   "outputs": [],
   "source": [
    "import numpy as np\n",
    "\n",
    "Data = NewDf.drop(columns='israin').values\n",
    "Target = NewDf['israin'].values\n",
    "\n",
    "np.save('./Data.npy', Data)\n",
    "np.save('./Target.npy', Target)"
   ]
  },
  {
   "cell_type": "code",
   "execution_count": 6,
   "metadata": {},
   "outputs": [],
   "source": [
    "from sklearn.preprocessing import LabelEncoder, StandardScaler, Normalizer\n",
    "from sklearn.pipeline import Pipeline\n",
    "\n",
    "pipeline = Pipeline([\n",
    "    ('Standard scaling', StandardScaler()),\n",
    "     ('Normalize', Normalizer())]).fit(X=Data, y=Target)\n",
    "\n",
    "Data = pipeline.transform(X=Data)\n",
    "Target = LabelEncoder().fit_transform(Target)"
   ]
  },
  {
   "cell_type": "code",
   "execution_count": 7,
   "metadata": {},
   "outputs": [
    {
     "data": {
      "image/png": "[encoded data removed]",
      "text/plain": [
       "<Figure size 600x400 with 1 Axes>"
      ]
     },
     "metadata": {},
     "output_type": "display_data"
    }
   ],
   "source": [
    "import matplotlib.pyplot as plt\n",
    "import numpy as np\n",
    "\n",
    "unique_values, counts = np.unique(Target, return_counts=True)\n",
    "\n",
    "plt.figure(figsize=(6, 4))\n",
    "plt.bar(unique_values, counts, color=['blue', 'orange'])\n",
    "plt.xlabel('Class')\n",
    "plt.ylabel('Count')\n",
    "plt.title('The balance of dataset before')\n",
    "plt.xticks(unique_values, ['No Rain', 'Rain'])\n",
    "plt.show()"
   ]
  },
  {
   "cell_type": "code",
   "execution_count": 8,
   "metadata": {},
   "outputs": [
    {
     "name": "stdout",
     "output_type": "stream",
     "text": [
      "Using device: cpu\n"
     ]
    }
   ],
   "source": [
    "import torch\n",
    "\n",
    "device = torch.device(\"cuda:0\" if torch.cuda.is_available() else \"cpu\")\n",
    "print(f\"Using device: {device}\")"
   ]
  },
  {
   "cell_type": "code",
   "execution_count": 9,
   "metadata": {},
   "outputs": [],
   "source": [
    "import numpy as np\n",
    "from sklearn.model_selection import train_test_split\n",
    "from torch.utils.data import Dataset, DataLoader\n",
    "\n",
    "\n",
    "class CustomDataset(Dataset):\n",
    "    def __init__(self, data, label):\n",
    "      super().__init__()\n",
    "      self.train = data\n",
    "      self.label = label\n",
    "\n",
    "    def __len__(self):\n",
    "      return self.train.shape[0]\n",
    "\n",
    "    def __getitem__(self, index: int):\n",
    "        return self.train[index], self.label[index]\n",
    "\n",
    "X_train, X_test, Y_train, Y_test = train_test_split(Data, Target, test_size=0.2)\n",
    "\n",
    "# Convert data to PyTorch tensors and move to GPU\n",
    "TrainData = torch.tensor(X_train, dtype=torch.float32, device=device)\n",
    "TrainLabel = torch.tensor(Y_train, dtype=torch.long, device=device)\n",
    "\n",
    "ValidData = torch.tensor(X_test, dtype=torch.float32, device=device)\n",
    "ValidLabel = torch.tensor(Y_test, dtype=torch.long, device=device)\n",
    "\n",
    "# Create dataloader\n",
    "TrainDataset = CustomDataset(TrainData, TrainLabel)\n",
    "ValidDataset = CustomDataset(ValidData, ValidLabel)\n",
    "\n",
    "TrainDataloader = DataLoader(TrainDataset, batch_size=64, shuffle=True, num_workers=4)\n",
    "ValidDataloader = DataLoader(ValidDataset, batch_size=64, shuffle=True, num_workers=4)"
   ]
  },
  {
   "cell_type": "code",
   "execution_count": 10,
   "metadata": {},
   "outputs": [],
   "source": [
    "import torch\n",
    "\n",
    "class EarlyStopping:\n",
    "    def __init__(self, patience=10, delta=0):\n",
    "        self.report = None\n",
    "        self.patience = patience\n",
    "        self.delta = delta\n",
    "        self.counter = 0\n",
    "        self.best_loss = None\n",
    "        self.best_acc = None\n",
    "        self.early_stop = False\n",
    "\n",
    "    def __call__(self, model, val_loss, val_acc, report):\n",
    "\n",
    "\n",
    "        if self.best_loss is None:\n",
    "            self.best_loss = val_loss\n",
    "            self.best_acc = val_acc\n",
    "            self.report = report\n",
    "            ExportPATH = f'./ModelCheckpoint/SoftOrdering1DCNN.pth'\n",
    "            torch.save(model.state_dict(), ExportPATH)\n",
    "\n",
    "        elif val_loss > self.best_loss + self.delta:\n",
    "            self.counter += 1\n",
    "            print(f'EarlyStopping counter: {self.counter} out of {self.patience}')\n",
    "            print(f'Best loss: {self.best_loss}')\n",
    "            print(f'Best accuracy: {self.best_acc}')\n",
    "\n",
    "            if self.counter >= self.patience:\n",
    "                self.early_stop = True\n",
    "\n",
    "        else:\n",
    "            self.best_loss = val_loss\n",
    "            self.best_acc = val_acc\n",
    "            self.report = report\n",
    "            self.counter = 0\n",
    "            ExportPATH = f'./ModelCheckpoint/SoftOrdering1DCNN.pth'\n",
    "            torch.save(model.state_dict(), ExportPATH)"
   ]
  },
  {
   "cell_type": "code",
   "execution_count": 11,
   "metadata": {},
   "outputs": [],
   "source": [
    "from torch.cuda.amp import autocast, GradScaler\n",
    "from tqdm import tqdm\n",
    "from sklearn.metrics import classification_report\n",
    "from sklearn.metrics import f1_score\n",
    "\n",
    "def TrainModel(model, loss_fn, optimizer, train_loader, scheduler=None, schd_batch_update=False):\n",
    "        model.train()\n",
    "        running_loss = None\n",
    "\n",
    "        pbar = tqdm(enumerate(train_loader), total=len(train_loader))\n",
    "        for step, (data, label) in pbar:\n",
    "            scaler = GradScaler()\n",
    "            with autocast():\n",
    "                output = model(data)\n",
    "                loss = loss_fn(output, label)\n",
    "                scaler.scale(loss).backward()\n",
    "\n",
    "                if running_loss is None:\n",
    "                    running_loss = loss.item()\n",
    "                else:\n",
    "                    running_loss = running_loss * .99 + loss.item() * .01\n",
    "\n",
    "                if ((step + 1) %  2 == 0) or ((step + 1) == len(train_loader)):\n",
    "                    scaler.step(optimizer)\n",
    "                    scaler.update()\n",
    "                    optimizer.zero_grad()\n",
    "\n",
    "                    if scheduler is not None and schd_batch_update:\n",
    "                        scheduler.step()\n",
    "\n",
    "                if ((step + 1) % 2 == 0) or ((step + 1) == len(train_loader)):\n",
    "                    description = f'Loss: {running_loss:.4f}'\n",
    "\n",
    "                    pbar.set_description(description)\n",
    "\n",
    "        if scheduler is not None and not schd_batch_update:\n",
    "           scheduler.step()\n",
    "\n",
    "def EvalModel(model, loss_fn, val_loader, early_stopping=None, scheduler=None, schd_loss_update=False):\n",
    "        model.eval()\n",
    "\n",
    "        loss_sum = 0\n",
    "        sample_num = 0\n",
    "        preds_all = []\n",
    "        targets_all = []\n",
    "\n",
    "        pbar = tqdm(enumerate(val_loader), total=len(val_loader))\n",
    "        for step, (data, label) in pbar:\n",
    "            predict = model(data)\n",
    "            preds_all += [torch.argmax(predict, 1).detach().cpu().numpy()]\n",
    "            targets_all += [label.detach().cpu().numpy()]\n",
    "\n",
    "            loss = loss_fn(predict, label)\n",
    "\n",
    "            loss_sum += loss.item() * label.shape[0]\n",
    "            sample_num += label.shape[0]\n",
    "\n",
    "            if ((step + 1) % 2 == 0) or ((step + 1) == len(val_loader)):\n",
    "                description = f'Loss: {loss_sum/sample_num:.4f}'\n",
    "                pbar.set_description(description)\n",
    "\n",
    "        preds_all = np.concatenate(preds_all)\n",
    "        targets_all = np.concatenate(targets_all)\n",
    "\n",
    "        report = classification_report(targets_all, preds_all, digits=4)\n",
    "        print(\"Classification report\")\n",
    "        print(report)\n",
    "        print(\"F1 micro averaging:\",(f1_score(targets_all, preds_all, average='micro')))\n",
    "\n",
    "        ValidLoss = loss_sum/sample_num\n",
    "        ValidAcc = (preds_all==targets_all).mean()\n",
    "\n",
    "        print('Validation loss', ValidLoss)\n",
    "        print('Validation accuracy', ValidAcc)\n",
    "        if early_stopping != None:\n",
    "          early_stopping(model, ValidLoss, ValidAcc, report)\n",
    "\n",
    "        if scheduler is not None:\n",
    "            if schd_loss_update:\n",
    "                scheduler.step(loss_sum/sample_num)\n",
    "            else:\n",
    "                scheduler.step()"
   ]
  },
  {
   "cell_type": "code",
   "execution_count": 12,
   "metadata": {},
   "outputs": [
    {
     "name": "stdout",
     "output_type": "stream",
     "text": [
      "Feature: 5\n",
      "Classes: 2\n",
      "Start building Model...\n",
      "Build Model successfully!\n",
      "\u001b[31mPlease check your arguments if you have upgraded adabelief-pytorch from version 0.0.5.\n",
      "\u001b[31mModifications to default arguments:\n",
      "\u001b[31m                           eps  weight_decouple    rectify\n",
      "-----------------------  -----  -----------------  ---------\n",
      "adabelief-pytorch=0.0.5  1e-08  False              False\n",
      ">=0.1.0 (Current 0.2.0)  1e-16  True               True\n",
      "\u001b[34mSGD better than Adam (e.g. CNN for Image Classification)    Adam better than SGD (e.g. Transformer, GAN)\n",
      "----------------------------------------------------------  ----------------------------------------------\n",
      "Recommended eps = 1e-8                                      Recommended eps = 1e-16\n",
      "\u001b[34mFor a complete table of recommended hyperparameters, see\n",
      "\u001b[34mhttps://github.com/juntang-zhuang/Adabelief-Optimizer\n",
      "\u001b[32mYou can disable the log message by setting \"print_change_log = False\", though it is recommended to keep as a reminder.\n",
      "\u001b[0m\n"
     ]
    },
    {
     "name": "stderr",
     "output_type": "stream",
     "text": [
      "/home/vanlinh/wens/.venv/lib/python3.11/site-packages/torch/nn/utils/weight_norm.py:30: UserWarning: torch.nn.utils.weight_norm is deprecated in favor of torch.nn.utils.parametrizations.weight_norm.\n",
      "  warnings.warn(\"torch.nn.utils.weight_norm is deprecated in favor of torch.nn.utils.parametrizations.weight_norm.\")\n"
     ]
    },
    {
     "name": "stdout",
     "output_type": "stream",
     "text": [
      "=================================================\n",
      "\n",
      "[ TRAINING EPOCH 1 ]\n"
     ]
    },
    {
     "name": "stderr",
     "output_type": "stream",
     "text": [
      "  0%|          | 0/2275 [00:00<?, ?it/s]/home/vanlinh/wens/.venv/lib/python3.11/site-packages/torch/cuda/amp/grad_scaler.py:125: UserWarning: torch.cuda.amp.GradScaler is enabled, but CUDA is not available.  Disabling.\n",
      "  warnings.warn(\n",
      "/home/vanlinh/wens/.venv/lib/python3.11/site-packages/torch/amp/autocast_mode.py:250: UserWarning: User provided device_type of 'cuda', but CUDA is not available. Disabling\n",
      "  warnings.warn(\n",
      "Loss: 0.5418: 100%|██████████| 2275/2275 [00:43<00:00, 52.69it/s]"
     ]
    },
    {
     "name": "stdout",
     "output_type": "stream",
     "text": [
      "\n",
      "[ EVALUATING VALIDATION ACCURACY ]\n"
     ]
    },
    {
     "name": "stderr",
     "output_type": "stream",
     "text": [
      "\n",
      "Loss: 0.5309: 100%|██████████| 569/569 [00:04<00:00, 132.21it/s]\n"
     ]
    },
    {
     "name": "stdout",
     "output_type": "stream",
     "text": [
      "Classification report\n",
      "              precision    recall  f1-score   support\n",
      "\n",
      "           0     0.7372    0.8461    0.7879     18494\n",
      "           1     0.8123    0.6884    0.7452     17898\n",
      "\n",
      "    accuracy                         0.7685     36392\n",
      "   macro avg     0.7748    0.7672    0.7666     36392\n",
      "weighted avg     0.7742    0.7685    0.7669     36392\n",
      "\n",
      "F1 micro averaging: 0.7685205539679051\n",
      "Validation loss 0.5308855787348711\n",
      "Validation accuracy 0.7685205539679051\n",
      "\n",
      "-------------------------------------------------\n",
      "\n",
      "=================================================\n",
      "\n",
      "[ TRAINING EPOCH 2 ]\n"
     ]
    },
    {
     "name": "stderr",
     "output_type": "stream",
     "text": [
      "  0%|          | 0/2275 [00:00<?, ?it/s]/home/vanlinh/wens/.venv/lib/python3.11/site-packages/torch/cuda/amp/grad_scaler.py:125: UserWarning: torch.cuda.amp.GradScaler is enabled, but CUDA is not available.  Disabling.\n",
      "  warnings.warn(\n",
      "/home/vanlinh/wens/.venv/lib/python3.11/site-packages/torch/amp/autocast_mode.py:250: UserWarning: User provided device_type of 'cuda', but CUDA is not available. Disabling\n",
      "  warnings.warn(\n",
      "Loss: 0.5326: 100%|██████████| 2275/2275 [00:41<00:00, 55.38it/s]"
     ]
    },
    {
     "name": "stdout",
     "output_type": "stream",
     "text": [
      "\n",
      "[ EVALUATING VALIDATION ACCURACY ]\n"
     ]
    },
    {
     "name": "stderr",
     "output_type": "stream",
     "text": [
      "\n",
      "Loss: 0.5200: 100%|██████████| 569/569 [00:04<00:00, 132.22it/s]\n"
     ]
    },
    {
     "name": "stdout",
     "output_type": "stream",
     "text": [
      "Classification report\n",
      "              precision    recall  f1-score   support\n",
      "\n",
      "           0     0.7651    0.8237    0.7933     18494\n",
      "           1     0.8022    0.7387    0.7691     17898\n",
      "\n",
      "    accuracy                         0.7819     36392\n",
      "   macro avg     0.7836    0.7812    0.7812     36392\n",
      "weighted avg     0.7833    0.7819    0.7814     36392\n",
      "\n",
      "F1 micro averaging: 0.7819026159595516\n",
      "Validation loss 0.5200395520950941\n",
      "Validation accuracy 0.7819026159595516\n",
      "\n",
      "-------------------------------------------------\n",
      "\n",
      "=================================================\n",
      "\n",
      "[ TRAINING EPOCH 3 ]\n"
     ]
    },
    {
     "name": "stderr",
     "output_type": "stream",
     "text": [
      "  0%|          | 0/2275 [00:00<?, ?it/s]/home/vanlinh/wens/.venv/lib/python3.11/site-packages/torch/cuda/amp/grad_scaler.py:125: UserWarning: torch.cuda.amp.GradScaler is enabled, but CUDA is not available.  Disabling.\n",
      "  warnings.warn(\n",
      "/home/vanlinh/wens/.venv/lib/python3.11/site-packages/torch/amp/autocast_mode.py:250: UserWarning: User provided device_type of 'cuda', but CUDA is not available. Disabling\n",
      "  warnings.warn(\n",
      "Loss: 0.5346: 100%|██████████| 2275/2275 [00:41<00:00, 55.31it/s]"
     ]
    },
    {
     "name": "stdout",
     "output_type": "stream",
     "text": [
      "\n",
      "[ EVALUATING VALIDATION ACCURACY ]\n"
     ]
    },
    {
     "name": "stderr",
     "output_type": "stream",
     "text": [
      "\n",
      "Loss: 0.5131: 100%|██████████| 569/569 [00:04<00:00, 134.12it/s]\n"
     ]
    },
    {
     "name": "stdout",
     "output_type": "stream",
     "text": [
      "Classification report\n",
      "              precision    recall  f1-score   support\n",
      "\n",
      "           0     0.7943    0.7897    0.7920     18494\n",
      "           1     0.7840    0.7887    0.7863     17898\n",
      "\n",
      "    accuracy                         0.7892     36392\n",
      "   macro avg     0.7891    0.7892    0.7891     36392\n",
      "weighted avg     0.7892    0.7892    0.7892     36392\n",
      "\n",
      "F1 micro averaging: 0.7891844361398108\n",
      "Validation loss 0.5130647326411979\n",
      "Validation accuracy 0.7891844361398109\n",
      "\n",
      "-------------------------------------------------\n",
      "\n",
      "=================================================\n",
      "\n",
      "[ TRAINING EPOCH 4 ]\n"
     ]
    },
    {
     "name": "stderr",
     "output_type": "stream",
     "text": [
      "  0%|          | 0/2275 [00:00<?, ?it/s]/home/vanlinh/wens/.venv/lib/python3.11/site-packages/torch/cuda/amp/grad_scaler.py:125: UserWarning: torch.cuda.amp.GradScaler is enabled, but CUDA is not available.  Disabling.\n",
      "  warnings.warn(\n",
      "/home/vanlinh/wens/.venv/lib/python3.11/site-packages/torch/amp/autocast_mode.py:250: UserWarning: User provided device_type of 'cuda', but CUDA is not available. Disabling\n",
      "  warnings.warn(\n",
      "Loss: 0.5313: 100%|██████████| 2275/2275 [00:39<00:00, 57.50it/s]"
     ]
    },
    {
     "name": "stdout",
     "output_type": "stream",
     "text": [
      "\n",
      "[ EVALUATING VALIDATION ACCURACY ]\n"
     ]
    },
    {
     "name": "stderr",
     "output_type": "stream",
     "text": [
      "\n",
      "Loss: 0.5129: 100%|██████████| 569/569 [00:04<00:00, 135.31it/s]\n"
     ]
    },
    {
     "name": "stdout",
     "output_type": "stream",
     "text": [
      "Classification report\n",
      "              precision    recall  f1-score   support\n",
      "\n",
      "           0     0.7945    0.7900    0.7922     18494\n",
      "           1     0.7843    0.7888    0.7865     17898\n",
      "\n",
      "    accuracy                         0.7894     36392\n",
      "   macro avg     0.7894    0.7894    0.7894     36392\n",
      "weighted avg     0.7895    0.7894    0.7894     36392\n",
      "\n",
      "F1 micro averaging: 0.7894317432402725\n",
      "Validation loss 0.5128988765129338\n",
      "Validation accuracy 0.7894317432402725\n",
      "\n",
      "-------------------------------------------------\n",
      "\n",
      "=================================================\n",
      "\n",
      "[ TRAINING EPOCH 5 ]\n"
     ]
    },
    {
     "name": "stderr",
     "output_type": "stream",
     "text": [
      "  0%|          | 0/2275 [00:00<?, ?it/s]/home/vanlinh/wens/.venv/lib/python3.11/site-packages/torch/cuda/amp/grad_scaler.py:125: UserWarning: torch.cuda.amp.GradScaler is enabled, but CUDA is not available.  Disabling.\n",
      "  warnings.warn(\n",
      "/home/vanlinh/wens/.venv/lib/python3.11/site-packages/torch/amp/autocast_mode.py:250: UserWarning: User provided device_type of 'cuda', but CUDA is not available. Disabling\n",
      "  warnings.warn(\n",
      "Loss: 0.5361: 100%|██████████| 2275/2275 [00:39<00:00, 57.37it/s]"
     ]
    },
    {
     "name": "stdout",
     "output_type": "stream",
     "text": [
      "\n",
      "[ EVALUATING VALIDATION ACCURACY ]\n"
     ]
    },
    {
     "name": "stderr",
     "output_type": "stream",
     "text": [
      "\n",
      "Loss: 0.5165: 100%|██████████| 569/569 [00:04<00:00, 136.64it/s]\n"
     ]
    },
    {
     "name": "stdout",
     "output_type": "stream",
     "text": [
      "Classification report\n",
      "              precision    recall  f1-score   support\n",
      "\n",
      "           0     0.7717    0.8173    0.7939     18494\n",
      "           1     0.7990    0.7501    0.7738     17898\n",
      "\n",
      "    accuracy                         0.7843     36392\n",
      "   macro avg     0.7853    0.7837    0.7838     36392\n",
      "weighted avg     0.7851    0.7843    0.7840     36392\n",
      "\n",
      "F1 micro averaging: 0.7842932512640141\n",
      "Validation loss 0.516484461202284\n",
      "Validation accuracy 0.7842932512640141\n",
      "EarlyStopping counter: 1 out of 10\n",
      "Best loss: 0.5128988765129338\n",
      "Best accuracy: 0.7894317432402725\n",
      "\n",
      "-------------------------------------------------\n",
      "\n",
      "=================================================\n",
      "\n",
      "[ TRAINING EPOCH 6 ]\n"
     ]
    },
    {
     "name": "stderr",
     "output_type": "stream",
     "text": [
      "  0%|          | 0/2275 [00:00<?, ?it/s]/home/vanlinh/wens/.venv/lib/python3.11/site-packages/torch/cuda/amp/grad_scaler.py:125: UserWarning: torch.cuda.amp.GradScaler is enabled, but CUDA is not available.  Disabling.\n",
      "  warnings.warn(\n",
      "/home/vanlinh/wens/.venv/lib/python3.11/site-packages/torch/amp/autocast_mode.py:250: UserWarning: User provided device_type of 'cuda', but CUDA is not available. Disabling\n",
      "  warnings.warn(\n",
      "Loss: 0.5346: 100%|██████████| 2275/2275 [00:38<00:00, 59.25it/s]"
     ]
    },
    {
     "name": "stdout",
     "output_type": "stream",
     "text": [
      "\n",
      "[ EVALUATING VALIDATION ACCURACY ]\n"
     ]
    },
    {
     "name": "stderr",
     "output_type": "stream",
     "text": [
      "\n",
      "Loss: 0.5128: 100%|██████████| 569/569 [00:04<00:00, 132.63it/s]\n"
     ]
    },
    {
     "name": "stdout",
     "output_type": "stream",
     "text": [
      "Classification report\n",
      "              precision    recall  f1-score   support\n",
      "\n",
      "           0     0.7885    0.7997    0.7941     18494\n",
      "           1     0.7900    0.7784    0.7841     17898\n",
      "\n",
      "    accuracy                         0.7892     36392\n",
      "   macro avg     0.7892    0.7890    0.7891     36392\n",
      "weighted avg     0.7892    0.7892    0.7892     36392\n",
      "\n",
      "F1 micro averaging: 0.789211914706529\n",
      "Validation loss 0.5127715751820278\n",
      "Validation accuracy 0.789211914706529\n",
      "\n",
      "-------------------------------------------------\n",
      "\n",
      "=================================================\n",
      "\n",
      "[ TRAINING EPOCH 7 ]\n"
     ]
    },
    {
     "name": "stderr",
     "output_type": "stream",
     "text": [
      "  0%|          | 0/2275 [00:00<?, ?it/s]/home/vanlinh/wens/.venv/lib/python3.11/site-packages/torch/cuda/amp/grad_scaler.py:125: UserWarning: torch.cuda.amp.GradScaler is enabled, but CUDA is not available.  Disabling.\n",
      "  warnings.warn(\n",
      "/home/vanlinh/wens/.venv/lib/python3.11/site-packages/torch/amp/autocast_mode.py:250: UserWarning: User provided device_type of 'cuda', but CUDA is not available. Disabling\n",
      "  warnings.warn(\n",
      "Loss: 0.5331: 100%|██████████| 2275/2275 [00:39<00:00, 57.76it/s]"
     ]
    },
    {
     "name": "stdout",
     "output_type": "stream",
     "text": [
      "\n",
      "[ EVALUATING VALIDATION ACCURACY ]\n"
     ]
    },
    {
     "name": "stderr",
     "output_type": "stream",
     "text": [
      "\n",
      "Loss: 0.5130: 100%|██████████| 569/569 [00:04<00:00, 134.01it/s]\n"
     ]
    },
    {
     "name": "stdout",
     "output_type": "stream",
     "text": [
      "Classification report\n",
      "              precision    recall  f1-score   support\n",
      "\n",
      "           0     0.7908    0.7933    0.7920     18494\n",
      "           1     0.7857    0.7831    0.7844     17898\n",
      "\n",
      "    accuracy                         0.7883     36392\n",
      "   macro avg     0.7882    0.7882    0.7882     36392\n",
      "weighted avg     0.7883    0.7883    0.7883     36392\n",
      "\n",
      "F1 micro averaging: 0.7882776434381182\n",
      "Validation loss 0.5129651199673317\n",
      "Validation accuracy 0.7882776434381182\n",
      "EarlyStopping counter: 1 out of 10\n",
      "Best loss: 0.5127715751820278\n",
      "Best accuracy: 0.789211914706529\n",
      "\n",
      "-------------------------------------------------\n",
      "\n",
      "=================================================\n",
      "\n",
      "[ TRAINING EPOCH 8 ]\n"
     ]
    },
    {
     "name": "stderr",
     "output_type": "stream",
     "text": [
      "  0%|          | 0/2275 [00:00<?, ?it/s]/home/vanlinh/wens/.venv/lib/python3.11/site-packages/torch/cuda/amp/grad_scaler.py:125: UserWarning: torch.cuda.amp.GradScaler is enabled, but CUDA is not available.  Disabling.\n",
      "  warnings.warn(\n",
      "/home/vanlinh/wens/.venv/lib/python3.11/site-packages/torch/amp/autocast_mode.py:250: UserWarning: User provided device_type of 'cuda', but CUDA is not available. Disabling\n",
      "  warnings.warn(\n",
      "Loss: 0.5338: 100%|██████████| 2275/2275 [00:39<00:00, 56.98it/s]"
     ]
    },
    {
     "name": "stdout",
     "output_type": "stream",
     "text": [
      "\n",
      "[ EVALUATING VALIDATION ACCURACY ]\n"
     ]
    },
    {
     "name": "stderr",
     "output_type": "stream",
     "text": [
      "\n",
      "Loss: 0.5102: 100%|██████████| 569/569 [00:04<00:00, 136.60it/s]\n"
     ]
    },
    {
     "name": "stdout",
     "output_type": "stream",
     "text": [
      "Classification report\n",
      "              precision    recall  f1-score   support\n",
      "\n",
      "           0     0.8099    0.7717    0.7903     18494\n",
      "           1     0.7750    0.8129    0.7935     17898\n",
      "\n",
      "    accuracy                         0.7919     36392\n",
      "   macro avg     0.7925    0.7923    0.7919     36392\n",
      "weighted avg     0.7928    0.7919    0.7919     36392\n",
      "\n",
      "F1 micro averaging: 0.7919322928116069\n",
      "Validation loss 0.510195357677936\n",
      "Validation accuracy 0.7919322928116069\n",
      "\n",
      "-------------------------------------------------\n",
      "\n",
      "=================================================\n",
      "\n",
      "[ TRAINING EPOCH 9 ]\n"
     ]
    },
    {
     "name": "stderr",
     "output_type": "stream",
     "text": [
      "  0%|          | 0/2275 [00:00<?, ?it/s]/home/vanlinh/wens/.venv/lib/python3.11/site-packages/torch/cuda/amp/grad_scaler.py:125: UserWarning: torch.cuda.amp.GradScaler is enabled, but CUDA is not available.  Disabling.\n",
      "  warnings.warn(\n",
      "/home/vanlinh/wens/.venv/lib/python3.11/site-packages/torch/amp/autocast_mode.py:250: UserWarning: User provided device_type of 'cuda', but CUDA is not available. Disabling\n",
      "  warnings.warn(\n",
      "Loss: 0.5390: 100%|██████████| 2275/2275 [00:40<00:00, 56.69it/s]"
     ]
    },
    {
     "name": "stdout",
     "output_type": "stream",
     "text": [
      "\n",
      "[ EVALUATING VALIDATION ACCURACY ]\n"
     ]
    },
    {
     "name": "stderr",
     "output_type": "stream",
     "text": [
      "\n",
      "Loss: 0.5127: 100%|██████████| 569/569 [00:04<00:00, 134.50it/s]\n"
     ]
    },
    {
     "name": "stdout",
     "output_type": "stream",
     "text": [
      "Classification report\n",
      "              precision    recall  f1-score   support\n",
      "\n",
      "           0     0.7930    0.7910    0.7920     18494\n",
      "           1     0.7846    0.7867    0.7856     17898\n",
      "\n",
      "    accuracy                         0.7889     36392\n",
      "   macro avg     0.7888    0.7888    0.7888     36392\n",
      "weighted avg     0.7889    0.7889    0.7889     36392\n",
      "\n",
      "F1 micro averaging: 0.7888821719059134\n",
      "Validation loss 0.5127437885160314\n",
      "Validation accuracy 0.7888821719059134\n",
      "EarlyStopping counter: 1 out of 10\n",
      "Best loss: 0.510195357677936\n",
      "Best accuracy: 0.7919322928116069\n",
      "\n",
      "-------------------------------------------------\n",
      "\n",
      "=================================================\n",
      "\n",
      "[ TRAINING EPOCH 10 ]\n"
     ]
    },
    {
     "name": "stderr",
     "output_type": "stream",
     "text": [
      "  0%|          | 0/2275 [00:00<?, ?it/s]/home/vanlinh/wens/.venv/lib/python3.11/site-packages/torch/cuda/amp/grad_scaler.py:125: UserWarning: torch.cuda.amp.GradScaler is enabled, but CUDA is not available.  Disabling.\n",
      "  warnings.warn(\n",
      "/home/vanlinh/wens/.venv/lib/python3.11/site-packages/torch/amp/autocast_mode.py:250: UserWarning: User provided device_type of 'cuda', but CUDA is not available. Disabling\n",
      "  warnings.warn(\n",
      "Loss: 0.5343: 100%|██████████| 2275/2275 [00:43<00:00, 51.85it/s]\n"
     ]
    },
    {
     "name": "stdout",
     "output_type": "stream",
     "text": [
      "\n",
      "[ EVALUATING VALIDATION ACCURACY ]\n"
     ]
    },
    {
     "name": "stderr",
     "output_type": "stream",
     "text": [
      "Loss: 0.5117: 100%|██████████| 569/569 [00:04<00:00, 120.95it/s]\n"
     ]
    },
    {
     "name": "stdout",
     "output_type": "stream",
     "text": [
      "Classification report\n",
      "              precision    recall  f1-score   support\n",
      "\n",
      "           0     0.8013    0.7827    0.7919     18494\n",
      "           1     0.7807    0.7995    0.7900     17898\n",
      "\n",
      "    accuracy                         0.7909     36392\n",
      "   macro avg     0.7910    0.7911    0.7909     36392\n",
      "weighted avg     0.7912    0.7909    0.7910     36392\n",
      "\n",
      "F1 micro averaging: 0.7909430644097604\n",
      "Validation loss 0.5117027590918944\n",
      "Validation accuracy 0.7909430644097604\n",
      "EarlyStopping counter: 2 out of 10\n",
      "Best loss: 0.510195357677936\n",
      "Best accuracy: 0.7919322928116069\n",
      "\n",
      "-------------------------------------------------\n",
      "\n",
      "=================================================\n",
      "\n",
      "[ TRAINING EPOCH 11 ]\n"
     ]
    },
    {
     "name": "stderr",
     "output_type": "stream",
     "text": [
      "  0%|          | 0/2275 [00:00<?, ?it/s]/home/vanlinh/wens/.venv/lib/python3.11/site-packages/torch/cuda/amp/grad_scaler.py:125: UserWarning: torch.cuda.amp.GradScaler is enabled, but CUDA is not available.  Disabling.\n",
      "  warnings.warn(\n",
      "/home/vanlinh/wens/.venv/lib/python3.11/site-packages/torch/amp/autocast_mode.py:250: UserWarning: User provided device_type of 'cuda', but CUDA is not available. Disabling\n",
      "  warnings.warn(\n",
      "Loss: 0.5304: 100%|██████████| 2275/2275 [00:45<00:00, 50.19it/s]"
     ]
    },
    {
     "name": "stdout",
     "output_type": "stream",
     "text": [
      "\n",
      "[ EVALUATING VALIDATION ACCURACY ]\n"
     ]
    },
    {
     "name": "stderr",
     "output_type": "stream",
     "text": [
      "\n",
      "Loss: 0.5137: 100%|██████████| 569/569 [00:04<00:00, 120.02it/s]\n"
     ]
    },
    {
     "name": "stdout",
     "output_type": "stream",
     "text": [
      "Classification report\n",
      "              precision    recall  f1-score   support\n",
      "\n",
      "           0     0.7925    0.7924    0.7925     18494\n",
      "           1     0.7855    0.7857    0.7856     17898\n",
      "\n",
      "    accuracy                         0.7891     36392\n",
      "   macro avg     0.7890    0.7890    0.7890     36392\n",
      "weighted avg     0.7891    0.7891    0.7891     36392\n",
      "\n",
      "F1 micro averaging: 0.7890745218729391\n",
      "Validation loss 0.5137411445071342\n",
      "Validation accuracy 0.7890745218729391\n",
      "EarlyStopping counter: 3 out of 10\n",
      "Best loss: 0.510195357677936\n",
      "Best accuracy: 0.7919322928116069\n",
      "\n",
      "-------------------------------------------------\n",
      "\n",
      "=================================================\n",
      "\n",
      "[ TRAINING EPOCH 12 ]\n"
     ]
    },
    {
     "name": "stderr",
     "output_type": "stream",
     "text": [
      "  0%|          | 0/2275 [00:00<?, ?it/s]/home/vanlinh/wens/.venv/lib/python3.11/site-packages/torch/cuda/amp/grad_scaler.py:125: UserWarning: torch.cuda.amp.GradScaler is enabled, but CUDA is not available.  Disabling.\n",
      "  warnings.warn(\n",
      "/home/vanlinh/wens/.venv/lib/python3.11/site-packages/torch/amp/autocast_mode.py:250: UserWarning: User provided device_type of 'cuda', but CUDA is not available. Disabling\n",
      "  warnings.warn(\n",
      "Loss: 0.5310: 100%|██████████| 2275/2275 [00:44<00:00, 51.40it/s]"
     ]
    },
    {
     "name": "stdout",
     "output_type": "stream",
     "text": [
      "\n",
      "[ EVALUATING VALIDATION ACCURACY ]\n"
     ]
    },
    {
     "name": "stderr",
     "output_type": "stream",
     "text": [
      "\n",
      "Loss: 0.5103: 100%|██████████| 569/569 [00:04<00:00, 122.79it/s]\n"
     ]
    },
    {
     "name": "stdout",
     "output_type": "stream",
     "text": [
      "Classification report\n",
      "              precision    recall  f1-score   support\n",
      "\n",
      "           0     0.8137    0.7637    0.7879     18494\n",
      "           1     0.7704    0.8193    0.7941     17898\n",
      "\n",
      "    accuracy                         0.7911     36392\n",
      "   macro avg     0.7920    0.7915    0.7910     36392\n",
      "weighted avg     0.7924    0.7911    0.7910     36392\n",
      "\n",
      "F1 micro averaging: 0.7910529786766323\n",
      "Validation loss 0.5102750498283091\n",
      "Validation accuracy 0.7910529786766323\n",
      "EarlyStopping counter: 4 out of 10\n",
      "Best loss: 0.510195357677936\n",
      "Best accuracy: 0.7919322928116069\n",
      "\n",
      "-------------------------------------------------\n",
      "\n",
      "=================================================\n",
      "\n",
      "[ TRAINING EPOCH 13 ]\n"
     ]
    },
    {
     "name": "stderr",
     "output_type": "stream",
     "text": [
      "  0%|          | 0/2275 [00:00<?, ?it/s]/home/vanlinh/wens/.venv/lib/python3.11/site-packages/torch/cuda/amp/grad_scaler.py:125: UserWarning: torch.cuda.amp.GradScaler is enabled, but CUDA is not available.  Disabling.\n",
      "  warnings.warn(\n",
      "/home/vanlinh/wens/.venv/lib/python3.11/site-packages/torch/amp/autocast_mode.py:250: UserWarning: User provided device_type of 'cuda', but CUDA is not available. Disabling\n",
      "  warnings.warn(\n",
      "Loss: 0.5296: 100%|██████████| 2275/2275 [00:47<00:00, 47.48it/s]"
     ]
    },
    {
     "name": "stdout",
     "output_type": "stream",
     "text": [
      "\n",
      "[ EVALUATING VALIDATION ACCURACY ]\n"
     ]
    },
    {
     "name": "stderr",
     "output_type": "stream",
     "text": [
      "\n",
      "Loss: 0.5099: 100%|██████████| 569/569 [00:05<00:00, 112.63it/s]\n"
     ]
    },
    {
     "name": "stdout",
     "output_type": "stream",
     "text": [
      "Classification report\n",
      "              precision    recall  f1-score   support\n",
      "\n",
      "           0     0.8061    0.7764    0.7910     18494\n",
      "           1     0.7774    0.8070    0.7919     17898\n",
      "\n",
      "    accuracy                         0.7914     36392\n",
      "   macro avg     0.7917    0.7917    0.7914     36392\n",
      "weighted avg     0.7920    0.7914    0.7914     36392\n",
      "\n",
      "F1 micro averaging: 0.7914376786106837\n",
      "Validation loss 0.5099451651046972\n",
      "Validation accuracy 0.7914376786106837\n",
      "\n",
      "-------------------------------------------------\n",
      "\n",
      "=================================================\n",
      "\n",
      "[ TRAINING EPOCH 14 ]\n"
     ]
    },
    {
     "name": "stderr",
     "output_type": "stream",
     "text": [
      "  0%|          | 0/2275 [00:00<?, ?it/s]/home/vanlinh/wens/.venv/lib/python3.11/site-packages/torch/cuda/amp/grad_scaler.py:125: UserWarning: torch.cuda.amp.GradScaler is enabled, but CUDA is not available.  Disabling.\n",
      "  warnings.warn(\n",
      "/home/vanlinh/wens/.venv/lib/python3.11/site-packages/torch/amp/autocast_mode.py:250: UserWarning: User provided device_type of 'cuda', but CUDA is not available. Disabling\n",
      "  warnings.warn(\n",
      "Loss: 0.5305: 100%|██████████| 2275/2275 [00:47<00:00, 47.84it/s]"
     ]
    },
    {
     "name": "stdout",
     "output_type": "stream",
     "text": [
      "\n",
      "[ EVALUATING VALIDATION ACCURACY ]\n"
     ]
    },
    {
     "name": "stderr",
     "output_type": "stream",
     "text": [
      "\n",
      "Loss: 0.5100: 100%|██████████| 569/569 [00:05<00:00, 106.19it/s]\n"
     ]
    },
    {
     "name": "stdout",
     "output_type": "stream",
     "text": [
      "Classification report\n",
      "              precision    recall  f1-score   support\n",
      "\n",
      "           0     0.8006    0.7796    0.7899     18494\n",
      "           1     0.7783    0.7993    0.7886     17898\n",
      "\n",
      "    accuracy                         0.7893     36392\n",
      "   macro avg     0.7894    0.7895    0.7893     36392\n",
      "weighted avg     0.7896    0.7893    0.7893     36392\n",
      "\n",
      "F1 micro averaging: 0.7892943504066828\n",
      "Validation loss 0.5099769202293367\n",
      "Validation accuracy 0.7892943504066828\n",
      "EarlyStopping counter: 1 out of 10\n",
      "Best loss: 0.5099451651046972\n",
      "Best accuracy: 0.7914376786106837\n",
      "\n",
      "-------------------------------------------------\n",
      "\n",
      "=================================================\n",
      "\n",
      "[ TRAINING EPOCH 15 ]\n"
     ]
    },
    {
     "name": "stderr",
     "output_type": "stream",
     "text": [
      "  0%|          | 0/2275 [00:00<?, ?it/s]/home/vanlinh/wens/.venv/lib/python3.11/site-packages/torch/cuda/amp/grad_scaler.py:125: UserWarning: torch.cuda.amp.GradScaler is enabled, but CUDA is not available.  Disabling.\n",
      "  warnings.warn(\n",
      "/home/vanlinh/wens/.venv/lib/python3.11/site-packages/torch/amp/autocast_mode.py:250: UserWarning: User provided device_type of 'cuda', but CUDA is not available. Disabling\n",
      "  warnings.warn(\n",
      "Loss: 0.5315: 100%|██████████| 2275/2275 [00:50<00:00, 45.03it/s]"
     ]
    },
    {
     "name": "stdout",
     "output_type": "stream",
     "text": [
      "\n",
      "[ EVALUATING VALIDATION ACCURACY ]\n"
     ]
    },
    {
     "name": "stderr",
     "output_type": "stream",
     "text": [
      "\n",
      "Loss: 0.5118: 100%|██████████| 569/569 [00:05<00:00, 95.82it/s]\n"
     ]
    },
    {
     "name": "stdout",
     "output_type": "stream",
     "text": [
      "Classification report\n",
      "              precision    recall  f1-score   support\n",
      "\n",
      "           0     0.7924    0.7946    0.7935     18494\n",
      "           1     0.7871    0.7848    0.7860     17898\n",
      "\n",
      "    accuracy                         0.7898     36392\n",
      "   macro avg     0.7897    0.7897    0.7897     36392\n",
      "weighted avg     0.7898    0.7898    0.7898     36392\n",
      "\n",
      "F1 micro averaging: 0.7897889646076061\n",
      "Validation loss 0.5118141268132467\n",
      "Validation accuracy 0.7897889646076061\n",
      "EarlyStopping counter: 2 out of 10\n",
      "Best loss: 0.5099451651046972\n",
      "Best accuracy: 0.7914376786106837\n",
      "\n",
      "-------------------------------------------------\n",
      "\n",
      "=================================================\n",
      "\n",
      "[ TRAINING EPOCH 16 ]\n"
     ]
    },
    {
     "name": "stderr",
     "output_type": "stream",
     "text": [
      "  0%|          | 0/2275 [00:00<?, ?it/s]/home/vanlinh/wens/.venv/lib/python3.11/site-packages/torch/cuda/amp/grad_scaler.py:125: UserWarning: torch.cuda.amp.GradScaler is enabled, but CUDA is not available.  Disabling.\n",
      "  warnings.warn(\n",
      "/home/vanlinh/wens/.venv/lib/python3.11/site-packages/torch/amp/autocast_mode.py:250: UserWarning: User provided device_type of 'cuda', but CUDA is not available. Disabling\n",
      "  warnings.warn(\n",
      "Loss: 0.5328: 100%|██████████| 2275/2275 [00:50<00:00, 44.86it/s]"
     ]
    },
    {
     "name": "stdout",
     "output_type": "stream",
     "text": [
      "\n",
      "[ EVALUATING VALIDATION ACCURACY ]\n"
     ]
    },
    {
     "name": "stderr",
     "output_type": "stream",
     "text": [
      "\n",
      "Loss: 0.5105: 100%|██████████| 569/569 [00:05<00:00, 96.08it/s]\n"
     ]
    },
    {
     "name": "stdout",
     "output_type": "stream",
     "text": [
      "Classification report\n",
      "              precision    recall  f1-score   support\n",
      "\n",
      "           0     0.8089    0.7681    0.7880     18494\n",
      "           1     0.7722    0.8125    0.7919     17898\n",
      "\n",
      "    accuracy                         0.7900     36392\n",
      "   macro avg     0.7906    0.7903    0.7899     36392\n",
      "weighted avg     0.7909    0.7900    0.7899     36392\n",
      "\n",
      "F1 micro averaging: 0.7899538360079138\n",
      "Validation loss 0.5105215174453708\n",
      "Validation accuracy 0.7899538360079138\n",
      "EarlyStopping counter: 3 out of 10\n",
      "Best loss: 0.5099451651046972\n",
      "Best accuracy: 0.7914376786106837\n",
      "\n",
      "-------------------------------------------------\n",
      "\n",
      "=================================================\n",
      "\n",
      "[ TRAINING EPOCH 17 ]\n"
     ]
    },
    {
     "name": "stderr",
     "output_type": "stream",
     "text": [
      "  0%|          | 0/2275 [00:00<?, ?it/s]/home/vanlinh/wens/.venv/lib/python3.11/site-packages/torch/cuda/amp/grad_scaler.py:125: UserWarning: torch.cuda.amp.GradScaler is enabled, but CUDA is not available.  Disabling.\n",
      "  warnings.warn(\n",
      "/home/vanlinh/wens/.venv/lib/python3.11/site-packages/torch/amp/autocast_mode.py:250: UserWarning: User provided device_type of 'cuda', but CUDA is not available. Disabling\n",
      "  warnings.warn(\n",
      "Loss: 0.5332: 100%|██████████| 2275/2275 [00:50<00:00, 45.39it/s]"
     ]
    },
    {
     "name": "stdout",
     "output_type": "stream",
     "text": [
      "\n",
      "[ EVALUATING VALIDATION ACCURACY ]\n"
     ]
    },
    {
     "name": "stderr",
     "output_type": "stream",
     "text": [
      "\n",
      "Loss: 0.5092: 100%|██████████| 569/569 [00:06<00:00, 94.20it/s]\n"
     ]
    },
    {
     "name": "stdout",
     "output_type": "stream",
     "text": [
      "Classification report\n",
      "              precision    recall  f1-score   support\n",
      "\n",
      "           0     0.8123    0.7716    0.7914     18494\n",
      "           1     0.7756    0.8157    0.7952     17898\n",
      "\n",
      "    accuracy                         0.7933     36392\n",
      "   macro avg     0.7939    0.7937    0.7933     36392\n",
      "weighted avg     0.7942    0.7933    0.7933     36392\n",
      "\n",
      "F1 micro averaging: 0.7933062211475049\n",
      "Validation loss 0.5091925370454736\n",
      "Validation accuracy 0.7933062211475049\n",
      "\n",
      "-------------------------------------------------\n",
      "\n",
      "=================================================\n",
      "\n",
      "[ TRAINING EPOCH 18 ]\n"
     ]
    },
    {
     "name": "stderr",
     "output_type": "stream",
     "text": [
      "  0%|          | 0/2275 [00:00<?, ?it/s]/home/vanlinh/wens/.venv/lib/python3.11/site-packages/torch/cuda/amp/grad_scaler.py:125: UserWarning: torch.cuda.amp.GradScaler is enabled, but CUDA is not available.  Disabling.\n",
      "  warnings.warn(\n",
      "/home/vanlinh/wens/.venv/lib/python3.11/site-packages/torch/amp/autocast_mode.py:250: UserWarning: User provided device_type of 'cuda', but CUDA is not available. Disabling\n",
      "  warnings.warn(\n",
      "Loss: 0.5231: 100%|██████████| 2275/2275 [00:50<00:00, 44.85it/s]"
     ]
    },
    {
     "name": "stdout",
     "output_type": "stream",
     "text": [
      "\n",
      "[ EVALUATING VALIDATION ACCURACY ]\n"
     ]
    },
    {
     "name": "stderr",
     "output_type": "stream",
     "text": [
      "\n",
      "Loss: 0.5091: 100%|██████████| 569/569 [00:05<00:00, 102.13it/s]\n"
     ]
    },
    {
     "name": "stdout",
     "output_type": "stream",
     "text": [
      "Classification report\n",
      "              precision    recall  f1-score   support\n",
      "\n",
      "           0     0.8061    0.7804    0.7930     18494\n",
      "           1     0.7803    0.8060    0.7930     17898\n",
      "\n",
      "    accuracy                         0.7930     36392\n",
      "   macro avg     0.7932    0.7932    0.7930     36392\n",
      "weighted avg     0.7934    0.7930    0.7930     36392\n",
      "\n",
      "F1 micro averaging: 0.7930039569136074\n",
      "Validation loss 0.5091327533378106\n",
      "Validation accuracy 0.7930039569136074\n",
      "\n",
      "-------------------------------------------------\n",
      "\n",
      "=================================================\n",
      "\n",
      "[ TRAINING EPOCH 19 ]\n"
     ]
    },
    {
     "name": "stderr",
     "output_type": "stream",
     "text": [
      "  0%|          | 0/2275 [00:00<?, ?it/s]/home/vanlinh/wens/.venv/lib/python3.11/site-packages/torch/cuda/amp/grad_scaler.py:125: UserWarning: torch.cuda.amp.GradScaler is enabled, but CUDA is not available.  Disabling.\n",
      "  warnings.warn(\n",
      "/home/vanlinh/wens/.venv/lib/python3.11/site-packages/torch/amp/autocast_mode.py:250: UserWarning: User provided device_type of 'cuda', but CUDA is not available. Disabling\n",
      "  warnings.warn(\n",
      "Loss: 0.5377: 100%|██████████| 2275/2275 [00:50<00:00, 45.23it/s]"
     ]
    },
    {
     "name": "stdout",
     "output_type": "stream",
     "text": [
      "\n",
      "[ EVALUATING VALIDATION ACCURACY ]\n"
     ]
    },
    {
     "name": "stderr",
     "output_type": "stream",
     "text": [
      "\n",
      "Loss: 0.5104: 100%|██████████| 569/569 [00:05<00:00, 98.17it/s] \n"
     ]
    },
    {
     "name": "stdout",
     "output_type": "stream",
     "text": [
      "Classification report\n",
      "              precision    recall  f1-score   support\n",
      "\n",
      "           0     0.8024    0.7796    0.7908     18494\n",
      "           1     0.7787    0.8017    0.7900     17898\n",
      "\n",
      "    accuracy                         0.7904     36392\n",
      "   macro avg     0.7906    0.7906    0.7904     36392\n",
      "weighted avg     0.7908    0.7904    0.7904     36392\n",
      "\n",
      "F1 micro averaging: 0.7904209716421191\n",
      "Validation loss 0.5103717040926526\n",
      "Validation accuracy 0.7904209716421191\n",
      "EarlyStopping counter: 1 out of 10\n",
      "Best loss: 0.5091327533378106\n",
      "Best accuracy: 0.7930039569136074\n",
      "\n",
      "-------------------------------------------------\n",
      "\n",
      "=================================================\n",
      "\n",
      "[ TRAINING EPOCH 20 ]\n"
     ]
    },
    {
     "name": "stderr",
     "output_type": "stream",
     "text": [
      "  0%|          | 0/2275 [00:00<?, ?it/s]/home/vanlinh/wens/.venv/lib/python3.11/site-packages/torch/cuda/amp/grad_scaler.py:125: UserWarning: torch.cuda.amp.GradScaler is enabled, but CUDA is not available.  Disabling.\n",
      "  warnings.warn(\n",
      "/home/vanlinh/wens/.venv/lib/python3.11/site-packages/torch/amp/autocast_mode.py:250: UserWarning: User provided device_type of 'cuda', but CUDA is not available. Disabling\n",
      "  warnings.warn(\n",
      "Loss: 0.5326: 100%|██████████| 2275/2275 [00:50<00:00, 45.26it/s]"
     ]
    },
    {
     "name": "stdout",
     "output_type": "stream",
     "text": [
      "\n",
      "[ EVALUATING VALIDATION ACCURACY ]\n"
     ]
    },
    {
     "name": "stderr",
     "output_type": "stream",
     "text": [
      "\n",
      "Loss: 0.5123: 100%|██████████| 569/569 [00:05<00:00, 97.03it/s] \n"
     ]
    },
    {
     "name": "stdout",
     "output_type": "stream",
     "text": [
      "Classification report\n",
      "              precision    recall  f1-score   support\n",
      "\n",
      "           0     0.7901    0.8005    0.7953     18494\n",
      "           1     0.7910    0.7803    0.7856     17898\n",
      "\n",
      "    accuracy                         0.7905     36392\n",
      "   macro avg     0.7905    0.7904    0.7904     36392\n",
      "weighted avg     0.7905    0.7905    0.7905     36392\n",
      "\n",
      "F1 micro averaging: 0.790530885908991\n",
      "Validation loss 0.5123085526220875\n",
      "Validation accuracy 0.790530885908991\n",
      "EarlyStopping counter: 2 out of 10\n",
      "Best loss: 0.5091327533378106\n",
      "Best accuracy: 0.7930039569136074\n",
      "\n",
      "-------------------------------------------------\n",
      "\n",
      "=================================================\n",
      "\n",
      "[ TRAINING EPOCH 21 ]\n"
     ]
    },
    {
     "name": "stderr",
     "output_type": "stream",
     "text": [
      "  0%|          | 0/2275 [00:00<?, ?it/s]/home/vanlinh/wens/.venv/lib/python3.11/site-packages/torch/cuda/amp/grad_scaler.py:125: UserWarning: torch.cuda.amp.GradScaler is enabled, but CUDA is not available.  Disabling.\n",
      "  warnings.warn(\n",
      "/home/vanlinh/wens/.venv/lib/python3.11/site-packages/torch/amp/autocast_mode.py:250: UserWarning: User provided device_type of 'cuda', but CUDA is not available. Disabling\n",
      "  warnings.warn(\n",
      "Loss: 0.5330: 100%|██████████| 2275/2275 [00:50<00:00, 44.99it/s]"
     ]
    },
    {
     "name": "stdout",
     "output_type": "stream",
     "text": [
      "\n",
      "[ EVALUATING VALIDATION ACCURACY ]\n"
     ]
    },
    {
     "name": "stderr",
     "output_type": "stream",
     "text": [
      "\n",
      "Loss: 0.5104: 100%|██████████| 569/569 [00:05<00:00, 96.38it/s]\n"
     ]
    },
    {
     "name": "stdout",
     "output_type": "stream",
     "text": [
      "Classification report\n",
      "              precision    recall  f1-score   support\n",
      "\n",
      "           0     0.7929    0.7922    0.7925     18494\n",
      "           1     0.7855    0.7862    0.7858     17898\n",
      "\n",
      "    accuracy                         0.7892     36392\n",
      "   macro avg     0.7892    0.7892    0.7892     36392\n",
      "weighted avg     0.7892    0.7892    0.7892     36392\n",
      "\n",
      "F1 micro averaging: 0.7892393932732469\n",
      "Validation loss 0.5104283378081784\n",
      "Validation accuracy 0.7892393932732469\n",
      "EarlyStopping counter: 3 out of 10\n",
      "Best loss: 0.5091327533378106\n",
      "Best accuracy: 0.7930039569136074\n",
      "\n",
      "-------------------------------------------------\n",
      "\n",
      "=================================================\n",
      "\n",
      "[ TRAINING EPOCH 22 ]\n"
     ]
    },
    {
     "name": "stderr",
     "output_type": "stream",
     "text": [
      "  0%|          | 0/2275 [00:00<?, ?it/s]/home/vanlinh/wens/.venv/lib/python3.11/site-packages/torch/cuda/amp/grad_scaler.py:125: UserWarning: torch.cuda.amp.GradScaler is enabled, but CUDA is not available.  Disabling.\n",
      "  warnings.warn(\n",
      "/home/vanlinh/wens/.venv/lib/python3.11/site-packages/torch/amp/autocast_mode.py:250: UserWarning: User provided device_type of 'cuda', but CUDA is not available. Disabling\n",
      "  warnings.warn(\n",
      "Loss: 0.5258: 100%|██████████| 2275/2275 [00:50<00:00, 45.15it/s]"
     ]
    },
    {
     "name": "stdout",
     "output_type": "stream",
     "text": [
      "\n",
      "[ EVALUATING VALIDATION ACCURACY ]\n"
     ]
    },
    {
     "name": "stderr",
     "output_type": "stream",
     "text": [
      "\n",
      "Loss: 0.5125: 100%|██████████| 569/569 [00:05<00:00, 96.80it/s] \n"
     ]
    },
    {
     "name": "stdout",
     "output_type": "stream",
     "text": [
      "Classification report\n",
      "              precision    recall  f1-score   support\n",
      "\n",
      "           0     0.7905    0.7973    0.7939     18494\n",
      "           1     0.7887    0.7816    0.7851     17898\n",
      "\n",
      "    accuracy                         0.7896     36392\n",
      "   macro avg     0.7896    0.7895    0.7895     36392\n",
      "weighted avg     0.7896    0.7896    0.7896     36392\n",
      "\n",
      "F1 micro averaging: 0.7895966146405804\n",
      "Validation loss 0.5124967795894758\n",
      "Validation accuracy 0.7895966146405804\n",
      "EarlyStopping counter: 4 out of 10\n",
      "Best loss: 0.5091327533378106\n",
      "Best accuracy: 0.7930039569136074\n",
      "\n",
      "-------------------------------------------------\n",
      "\n",
      "=================================================\n",
      "\n",
      "[ TRAINING EPOCH 23 ]\n"
     ]
    },
    {
     "name": "stderr",
     "output_type": "stream",
     "text": [
      "  0%|          | 0/2275 [00:00<?, ?it/s]/home/vanlinh/wens/.venv/lib/python3.11/site-packages/torch/cuda/amp/grad_scaler.py:125: UserWarning: torch.cuda.amp.GradScaler is enabled, but CUDA is not available.  Disabling.\n",
      "  warnings.warn(\n",
      "/home/vanlinh/wens/.venv/lib/python3.11/site-packages/torch/amp/autocast_mode.py:250: UserWarning: User provided device_type of 'cuda', but CUDA is not available. Disabling\n",
      "  warnings.warn(\n",
      "Loss: 0.5263: 100%|██████████| 2275/2275 [00:47<00:00, 48.08it/s]"
     ]
    },
    {
     "name": "stdout",
     "output_type": "stream",
     "text": [
      "\n",
      "[ EVALUATING VALIDATION ACCURACY ]\n"
     ]
    },
    {
     "name": "stderr",
     "output_type": "stream",
     "text": [
      "\n",
      "Loss: 0.5098: 100%|██████████| 569/569 [00:05<00:00, 102.77it/s]\n"
     ]
    },
    {
     "name": "stdout",
     "output_type": "stream",
     "text": [
      "Classification report\n",
      "              precision    recall  f1-score   support\n",
      "\n",
      "           0     0.8050    0.7793    0.7919     18494\n",
      "           1     0.7793    0.8049    0.7919     17898\n",
      "\n",
      "    accuracy                         0.7919     36392\n",
      "   macro avg     0.7921    0.7921    0.7919     36392\n",
      "weighted avg     0.7923    0.7919    0.7919     36392\n",
      "\n",
      "F1 micro averaging: 0.791904814244889\n",
      "Validation loss 0.5098273524558787\n",
      "Validation accuracy 0.791904814244889\n",
      "EarlyStopping counter: 5 out of 10\n",
      "Best loss: 0.5091327533378106\n",
      "Best accuracy: 0.7930039569136074\n",
      "\n",
      "-------------------------------------------------\n",
      "\n",
      "=================================================\n",
      "\n",
      "[ TRAINING EPOCH 24 ]\n"
     ]
    },
    {
     "name": "stderr",
     "output_type": "stream",
     "text": [
      "  0%|          | 0/2275 [00:00<?, ?it/s]/home/vanlinh/wens/.venv/lib/python3.11/site-packages/torch/cuda/amp/grad_scaler.py:125: UserWarning: torch.cuda.amp.GradScaler is enabled, but CUDA is not available.  Disabling.\n",
      "  warnings.warn(\n",
      "/home/vanlinh/wens/.venv/lib/python3.11/site-packages/torch/amp/autocast_mode.py:250: UserWarning: User provided device_type of 'cuda', but CUDA is not available. Disabling\n",
      "  warnings.warn(\n",
      "Loss: 0.5279: 100%|██████████| 2275/2275 [00:46<00:00, 48.61it/s]"
     ]
    },
    {
     "name": "stdout",
     "output_type": "stream",
     "text": [
      "\n",
      "[ EVALUATING VALIDATION ACCURACY ]\n"
     ]
    },
    {
     "name": "stderr",
     "output_type": "stream",
     "text": [
      "\n",
      "Loss: 0.5096: 100%|██████████| 569/569 [00:05<00:00, 105.17it/s]\n"
     ]
    },
    {
     "name": "stdout",
     "output_type": "stream",
     "text": [
      "Classification report\n",
      "              precision    recall  f1-score   support\n",
      "\n",
      "           0     0.8030    0.7836    0.7932     18494\n",
      "           1     0.7818    0.8014    0.7915     17898\n",
      "\n",
      "    accuracy                         0.7923     36392\n",
      "   macro avg     0.7924    0.7925    0.7923     36392\n",
      "weighted avg     0.7926    0.7923    0.7924     36392\n",
      "\n",
      "F1 micro averaging: 0.7923444713123764\n",
      "Validation loss 0.5096236722472999\n",
      "Validation accuracy 0.7923444713123764\n",
      "EarlyStopping counter: 6 out of 10\n",
      "Best loss: 0.5091327533378106\n",
      "Best accuracy: 0.7930039569136074\n",
      "\n",
      "-------------------------------------------------\n",
      "\n",
      "=================================================\n",
      "\n",
      "[ TRAINING EPOCH 25 ]\n"
     ]
    },
    {
     "name": "stderr",
     "output_type": "stream",
     "text": [
      "  0%|          | 0/2275 [00:00<?, ?it/s]/home/vanlinh/wens/.venv/lib/python3.11/site-packages/torch/cuda/amp/grad_scaler.py:125: UserWarning: torch.cuda.amp.GradScaler is enabled, but CUDA is not available.  Disabling.\n",
      "  warnings.warn(\n",
      "/home/vanlinh/wens/.venv/lib/python3.11/site-packages/torch/amp/autocast_mode.py:250: UserWarning: User provided device_type of 'cuda', but CUDA is not available. Disabling\n",
      "  warnings.warn(\n",
      "Loss: 0.5336: 100%|██████████| 2275/2275 [00:47<00:00, 48.09it/s]"
     ]
    },
    {
     "name": "stdout",
     "output_type": "stream",
     "text": [
      "\n",
      "[ EVALUATING VALIDATION ACCURACY ]\n"
     ]
    },
    {
     "name": "stderr",
     "output_type": "stream",
     "text": [
      "\n",
      "Loss: 0.5137: 100%|██████████| 569/569 [00:05<00:00, 105.25it/s]\n"
     ]
    },
    {
     "name": "stdout",
     "output_type": "stream",
     "text": [
      "Classification report\n",
      "              precision    recall  f1-score   support\n",
      "\n",
      "           0     0.7804    0.8117    0.7958     18494\n",
      "           1     0.7970    0.7640    0.7802     17898\n",
      "\n",
      "    accuracy                         0.7883     36392\n",
      "   macro avg     0.7887    0.7879    0.7880     36392\n",
      "weighted avg     0.7886    0.7883    0.7881     36392\n",
      "\n",
      "F1 micro averaging: 0.7882501648714003\n",
      "Validation loss 0.5136971420889557\n",
      "Validation accuracy 0.7882501648714003\n",
      "EarlyStopping counter: 7 out of 10\n",
      "Best loss: 0.5091327533378106\n",
      "Best accuracy: 0.7930039569136074\n",
      "\n",
      "-------------------------------------------------\n",
      "\n",
      "=================================================\n",
      "\n",
      "[ TRAINING EPOCH 26 ]\n"
     ]
    },
    {
     "name": "stderr",
     "output_type": "stream",
     "text": [
      "  0%|          | 0/2275 [00:00<?, ?it/s]/home/vanlinh/wens/.venv/lib/python3.11/site-packages/torch/cuda/amp/grad_scaler.py:125: UserWarning: torch.cuda.amp.GradScaler is enabled, but CUDA is not available.  Disabling.\n",
      "  warnings.warn(\n",
      "/home/vanlinh/wens/.venv/lib/python3.11/site-packages/torch/amp/autocast_mode.py:250: UserWarning: User provided device_type of 'cuda', but CUDA is not available. Disabling\n",
      "  warnings.warn(\n",
      "Loss: 0.5324: 100%|██████████| 2275/2275 [00:47<00:00, 48.40it/s]"
     ]
    },
    {
     "name": "stdout",
     "output_type": "stream",
     "text": [
      "\n",
      "[ EVALUATING VALIDATION ACCURACY ]\n"
     ]
    },
    {
     "name": "stderr",
     "output_type": "stream",
     "text": [
      "\n",
      "Loss: 0.5104: 100%|██████████| 569/569 [00:05<00:00, 106.81it/s]\n"
     ]
    },
    {
     "name": "stdout",
     "output_type": "stream",
     "text": [
      "Classification report\n",
      "              precision    recall  f1-score   support\n",
      "\n",
      "           0     0.7979    0.7887    0.7933     18494\n",
      "           1     0.7843    0.7936    0.7889     17898\n",
      "\n",
      "    accuracy                         0.7911     36392\n",
      "   macro avg     0.7911    0.7912    0.7911     36392\n",
      "weighted avg     0.7912    0.7911    0.7911     36392\n",
      "\n",
      "F1 micro averaging: 0.7911354143767863\n",
      "Validation loss 0.5103807349235415\n",
      "Validation accuracy 0.7911354143767861\n",
      "EarlyStopping counter: 8 out of 10\n",
      "Best loss: 0.5091327533378106\n",
      "Best accuracy: 0.7930039569136074\n",
      "\n",
      "-------------------------------------------------\n",
      "\n",
      "=================================================\n",
      "\n",
      "[ TRAINING EPOCH 27 ]\n"
     ]
    },
    {
     "name": "stderr",
     "output_type": "stream",
     "text": [
      "  0%|          | 0/2275 [00:00<?, ?it/s]/home/vanlinh/wens/.venv/lib/python3.11/site-packages/torch/cuda/amp/grad_scaler.py:125: UserWarning: torch.cuda.amp.GradScaler is enabled, but CUDA is not available.  Disabling.\n",
      "  warnings.warn(\n",
      "/home/vanlinh/wens/.venv/lib/python3.11/site-packages/torch/amp/autocast_mode.py:250: UserWarning: User provided device_type of 'cuda', but CUDA is not available. Disabling\n",
      "  warnings.warn(\n",
      "Loss: 0.5307: 100%|██████████| 2275/2275 [00:48<00:00, 46.91it/s]"
     ]
    },
    {
     "name": "stdout",
     "output_type": "stream",
     "text": [
      "\n",
      "[ EVALUATING VALIDATION ACCURACY ]\n"
     ]
    },
    {
     "name": "stderr",
     "output_type": "stream",
     "text": [
      "\n",
      "Loss: 0.5104: 100%|██████████| 569/569 [00:05<00:00, 109.71it/s]\n"
     ]
    },
    {
     "name": "stdout",
     "output_type": "stream",
     "text": [
      "Classification report\n",
      "              precision    recall  f1-score   support\n",
      "\n",
      "           0     0.8083    0.7751    0.7914     18494\n",
      "           1     0.7771    0.8100    0.7932     17898\n",
      "\n",
      "    accuracy                         0.7923     36392\n",
      "   macro avg     0.7927    0.7926    0.7923     36392\n",
      "weighted avg     0.7929    0.7923    0.7923     36392\n",
      "\n",
      "F1 micro averaging: 0.7922895141789404\n",
      "Validation loss 0.5103994501334124\n",
      "Validation accuracy 0.7922895141789404\n",
      "EarlyStopping counter: 9 out of 10\n",
      "Best loss: 0.5091327533378106\n",
      "Best accuracy: 0.7930039569136074\n",
      "\n",
      "-------------------------------------------------\n",
      "\n",
      "=================================================\n",
      "\n",
      "[ TRAINING EPOCH 28 ]\n"
     ]
    },
    {
     "name": "stderr",
     "output_type": "stream",
     "text": [
      "  0%|          | 0/2275 [00:00<?, ?it/s]/home/vanlinh/wens/.venv/lib/python3.11/site-packages/torch/cuda/amp/grad_scaler.py:125: UserWarning: torch.cuda.amp.GradScaler is enabled, but CUDA is not available.  Disabling.\n",
      "  warnings.warn(\n",
      "/home/vanlinh/wens/.venv/lib/python3.11/site-packages/torch/amp/autocast_mode.py:250: UserWarning: User provided device_type of 'cuda', but CUDA is not available. Disabling\n",
      "  warnings.warn(\n",
      "Loss: 0.5322: 100%|██████████| 2275/2275 [00:47<00:00, 47.43it/s]"
     ]
    },
    {
     "name": "stdout",
     "output_type": "stream",
     "text": [
      "\n",
      "[ EVALUATING VALIDATION ACCURACY ]\n"
     ]
    },
    {
     "name": "stderr",
     "output_type": "stream",
     "text": [
      "\n",
      "Loss: 0.5095: 100%|██████████| 569/569 [00:05<00:00, 113.35it/s]\n"
     ]
    },
    {
     "name": "stdout",
     "output_type": "stream",
     "text": [
      "Classification report\n",
      "              precision    recall  f1-score   support\n",
      "\n",
      "           0     0.8195    0.7575    0.7873     18494\n",
      "           1     0.7676    0.8276    0.7965     17898\n",
      "\n",
      "    accuracy                         0.7920     36392\n",
      "   macro avg     0.7936    0.7926    0.7919     36392\n",
      "weighted avg     0.7940    0.7920    0.7918     36392\n",
      "\n",
      "F1 micro averaging: 0.7920147285117608\n",
      "Validation loss 0.5095124486043549\n",
      "Validation accuracy 0.7920147285117608\n",
      "EarlyStopping counter: 10 out of 10\n",
      "Best loss: 0.5091327533378106\n",
      "Best accuracy: 0.7930039569136074\n",
      "\n",
      "-------------------------------------------------\n",
      "\n"
     ]
    }
   ],
   "source": [
    "from SoftOrdering1DCNN import SoftOrdering1DCNN\n",
    "from torch.optim.lr_scheduler import CosineAnnealingWarmRestarts\n",
    "from torch import nn\n",
    "torch.backends.cudnn.benchmark = True\n",
    "\n",
    "input_dim = TrainData.shape[1]\n",
    "numclass = len(np.unique(TrainLabel.cpu()))\n",
    "print(f'Feature: {input_dim}')\n",
    "print(f'Classes: {numclass}')\n",
    "\n",
    "print('Start building Model...')\n",
    "model = SoftOrdering1DCNN(input_dim, numclass)\n",
    "model.to(device)\n",
    "print('Build Model successfully!')\n",
    "\n",
    "from adabelief_pytorch import AdaBelief\n",
    "optimizer = AdaBelief(model.parameters(),\n",
    "                      lr=1e-3, eps=1e-16, betas=(0.9,0.999), weight_decay=1e-4,\n",
    "                      weight_decouple=False, rectify=False, fixed_decay=False, amsgrad=False)\n",
    "scheduler = CosineAnnealingWarmRestarts(optimizer, T_0=10, T_mult=1, eta_min=1e-4, last_epoch=-1)\n",
    "early_stopping = EarlyStopping(patience=10)\n",
    "\n",
    "loss_tr = nn.CrossEntropyLoss().to(device)\n",
    "loss_vl = nn.CrossEntropyLoss().to(device)\n",
    "\n",
    "epoch = 0\n",
    "while True:\n",
    "    epoch += 1\n",
    "    print('=================================================')\n",
    "    print(f'\\n[ TRAINING EPOCH {epoch} ]')\n",
    "    TrainModel(model, loss_tr, optimizer, TrainDataloader, scheduler=scheduler, schd_batch_update=True)\n",
    "    with torch.no_grad():\n",
    "      print('\\n[ EVALUATING VALIDATION ACCURACY ]')\n",
    "      EvalModel(model, loss_vl, ValidDataloader, early_stopping)\n",
    "      print('\\n-------------------------------------------------\\n')\n",
    "      if early_stopping.early_stop:\n",
    "            break"
   ]
  }
 ],
 "metadata": {
  "kernelspec": {
   "display_name": ".venv",
   "language": "python",
   "name": "python3"
  },
  "language_info": {
   "codemirror_mode": {
    "name": "ipython",
    "version": 3
   },
   "file_extension": ".py",
   "mimetype": "text/x-python",
   "name": "python",
   "nbconvert_exporter": "python",
   "pygments_lexer": "ipython3",
   "version": "3.11.6"
  }
 },
 "nbformat": 4,
 "nbformat_minor": 2
}
